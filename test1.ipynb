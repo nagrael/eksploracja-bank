{
 "cells": [
  {
   "cell_type": "code",
   "execution_count": null,
   "metadata": {},
   "outputs": [],
   "source": [
    "%matplotlib notebook\n",
    "import pandas as pd\n",
    "import numpy as np\n",
    "import matplotlib.pyplot as plt\n",
    "from sklearn import manifold\n",
    "from time import time"
   ]
  },
  {
   "cell_type": "code",
   "execution_count": null,
   "metadata": {},
   "outputs": [],
   "source": [
    "df = pd.read_csv('WDI_csv/WDIData.csv',index_col='Country Name')\n",
    "df = df.iloc[:, :-1]\n",
    "print(df.shape)"
   ]
  },
  {
   "cell_type": "code",
   "execution_count": null,
   "metadata": {},
   "outputs": [],
   "source": [
    "set(df.loc['Afghanistan']['Indicator Name'])"
   ]
  },
  {
   "cell_type": "code",
   "execution_count": null,
   "metadata": {},
   "outputs": [],
   "source": [
    "print(len(set(df.index)))"
   ]
  },
  {
   "cell_type": "code",
   "execution_count": null,
   "metadata": {},
   "outputs": [],
   "source": [
    "from collections import Counter\n",
    "a = df[df['1962'].notnull()]['Indicator Name']\n",
    "test = Counter()\n",
    "for b, c in zip(a, a.index):\n",
    "    test[b] += 1\n",
    "\n",
    "    "
   ]
  },
  {
   "cell_type": "code",
   "execution_count": null,
   "metadata": {
    "scrolled": true
   },
   "outputs": [],
   "source": [
    "test.most_common(10)"
   ]
  },
  {
   "cell_type": "code",
   "execution_count": null,
   "metadata": {},
   "outputs": [],
   "source": [
    "datas = df[df['Indicator Name'] == 'GDP per capita (current US$)']\n",
    "datas"
   ]
  },
  {
   "cell_type": "code",
   "execution_count": null,
   "metadata": {},
   "outputs": [],
   "source": [
    "datas = datas.iloc[:, 3:]\n",
    "datas"
   ]
  },
  {
   "cell_type": "code",
   "execution_count": null,
   "metadata": {
    "scrolled": true
   },
   "outputs": [],
   "source": [
    "from scipy.interpolate import interp1d, CubicSpline, PchipInterpolator\n",
    "from scipy.optimize import curve_fit\n",
    "import math\n",
    "import copy\n",
    "\n",
    "def func_linear(x, a, b):\n",
    "    return a + b * x\n",
    "\n",
    "def func_cubic(x, a, b, c, d):\n",
    "    return a + b * x + c * x**2 + d * x**3\n",
    "\n",
    "datas_copy = copy.deepcopy(datas)\n",
    "\n",
    "for i in range(datas.shape[0]):\n",
    "# for i in range(0, 1):\n",
    "    original_row = datas.iloc[i:i+1,:]\n",
    "    curated_row = original_row.dropna(axis='columns', how='any')\n",
    "    \n",
    "    if len(curated_row.values[0]) == 0:\n",
    "        continue\n",
    "        \n",
    "    original_row = original_row.iloc[0]\n",
    "    curated_row = curated_row.iloc[0]\n",
    "    \n",
    "    indexes = original_row.index.values\n",
    "    indexes = indexes.astype(np.float)\n",
    "\n",
    "    x = curated_row.index.values\n",
    "    x = x.astype(np.float)\n",
    "    y = curated_row.values\n",
    "    \n",
    "    f = interp1d(x, y, kind='linear', fill_value='extrapolate')\n",
    "    cubicspline = CubicSpline(x, y, extrapolate='None')\n",
    "    Pchip = PchipInterpolator(x, y, extrapolate='True')\n",
    "    \n",
    "    z = np.polyfit(x, y, 4)\n",
    "    p = np.poly1d(z)\n",
    "    \n",
    "    popt_linear, _ = curve_fit(func_linear, x, y)\n",
    "    popt_cubic, _ = curve_fit(func_cubic, x, y)\n",
    "    \n",
    "    flag = False\n",
    "    for n in range(len(indexes)):\n",
    "        if math.isnan(datas_copy.iat[i,n]):\n",
    "            value = Pchip(indexes[n])\n",
    "            if(value < 0):\n",
    "                print(value)\n",
    "                value = 0\n",
    "            datas_copy.iat[i,n] = value\n",
    "            flag = True\n",
    "    if flag:\n",
    "        print(datas_copy.iloc[i:i+1,:].values)"
   ]
  },
  {
   "cell_type": "code",
   "execution_count": null,
   "metadata": {},
   "outputs": [],
   "source": [
    "xnew = np.linspace(1960, 2017, endpoint=True)\n",
    "plt.plot(x, y, 'o', xnew, p(xnew), '-', xnew, cubicspline(xnew), '--', xnew, Pchip(xnew), '-', \n",
    "         xnew, func_linear(xnew, *popt_linear), 'r-', xnew, func_cubic(xnew, *popt_cubic), 'b-')\n",
    "plt.legend(['data', 'polyfit interpolation', 'cubicspline interpolation', 'Pchip interpolation',\n",
    "            'linear function approximate', 'cubic function approximate'], loc='best')\n",
    "plt.show()"
   ]
  },
  {
   "cell_type": "code",
   "execution_count": null,
   "metadata": {},
   "outputs": [],
   "source": [
    "datas = datas.iloc[:, 3:]\n",
    "datas = datas.dropna(axis='columns', how='all')\n",
    "datas = datas.dropna(axis='index', how='any')\n",
    "X = datas.values"
   ]
  },
  {
   "cell_type": "code",
   "execution_count": null,
   "metadata": {},
   "outputs": [],
   "source": [
    "datas.index"
   ]
  },
  {
   "cell_type": "code",
   "execution_count": null,
   "metadata": {},
   "outputs": [],
   "source": [
    "from dtaidistance import dtw\n",
    "from sklearn.preprocessing import normalize\n",
    "X = normalize(X, norm='max')\n",
    "ds = dtw.distance_matrix_fast(X)\n",
    "ds[ds == np.inf] = 0\n",
    "ds"
   ]
  },
  {
   "cell_type": "code",
   "execution_count": null,
   "metadata": {},
   "outputs": [],
   "source": [
    "from dtaidistance import clustering\n",
    "# Custom Hierarchical clustering\n",
    "model1 = clustering.Hierarchical(dtw.distance_matrix_fast, {})\n",
    "# Augment Hierarchical object to keep track of the full tree\n",
    "model2 = clustering.HierarchicalTree(model1)\n",
    "# SciPy linkage clustering\n",
    "model3 = clustering.LinkageTree(dtw.distance_matrix_fast, {})\n",
    "cluster_idx1 = model3.fit(datas.values[:20,:])\n",
    "\n",
    "# cluster_idx2 = model2.fit(datas.values)"
   ]
  },
  {
   "cell_type": "code",
   "execution_count": null,
   "metadata": {
    "scrolled": false
   },
   "outputs": [],
   "source": [
    "\n",
    "fig, ax = plt.subplots(figsize=(8,6))\n",
    "t0 = time()\n",
    "mds = manifold.TSNE(2, init='pca', random_state=0)\n",
    "Y = mds.fit_transform(ds)\n",
    "t1 = time()\n",
    "color = [i for i in range(len(Y))]\n",
    "ax.scatter(Y[:, 0], Y[:, 1], c=color, cmap=plt.cm.Spectral)\n",
    "plt.title(\"TSNE (%.2g sec)\" % (t1 - t0))\n",
    "\n",
    "for i, txt in enumerate(datas.index):\n",
    "    ax.annotate(txt, (Y[i, 0], Y[i, 1]))\n",
    "plt.show()"
   ]
  },
  {
   "cell_type": "code",
   "execution_count": null,
   "metadata": {},
   "outputs": [],
   "source": [
    "import pyximport; pyximport.install()\n",
    "from frechet import frechet"
   ]
  },
  {
   "cell_type": "code",
   "execution_count": null,
   "metadata": {},
   "outputs": [],
   "source": [
    "P = datas.values[0].copy(order='C')\n",
    "Q = datas.values[1].copy(order='C')\n",
    "frechet(P, Q)"
   ]
  },
  {
   "cell_type": "code",
   "execution_count": null,
   "metadata": {},
   "outputs": [],
   "source": [
    "Y"
   ]
  },
  {
   "cell_type": "code",
   "execution_count": null,
   "metadata": {},
   "outputs": [],
   "source": []
  }
 ],
 "metadata": {
  "kernelspec": {
   "display_name": "Python 3",
   "language": "python",
   "name": "python3"
  },
  "language_info": {
   "codemirror_mode": {
    "name": "ipython",
    "version": 3
   },
   "file_extension": ".py",
   "mimetype": "text/x-python",
   "name": "python",
   "nbconvert_exporter": "python",
   "pygments_lexer": "ipython3",
   "version": "3.7.1"
  }
 },
 "nbformat": 4,
 "nbformat_minor": 2
}
